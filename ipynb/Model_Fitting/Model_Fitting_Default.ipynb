{
 "cells": [
  {
   "cell_type": "markdown",
   "metadata": {},
   "source": [
    "## Model Fitting\n",
    "\n",
    "#### The goal of this section is to fit a regression model to Ames Dataset using default parameters.\n",
    "\n",
    "Let's fit the following models using default parameters and analyse their scores.\n",
    "- Ridge\n",
    "- Lasso\n",
    "- KNN (K Nearest Neighbor)\n",
    "- SVM (Support Vector Machine)\n",
    "- Decision Tree\n",
    "\n",
    "##### Besides a Model's hyperparameters, Feature selection also affects a Model's score. So in this section, I thought it would be interesting to also see how changing feature selection methods affects a Model's score. "
   ]
  },
  {
   "cell_type": "code",
   "execution_count": 1,
   "metadata": {},
   "outputs": [
    {
     "name": "stdout",
     "output_type": "stream",
     "text": [
      "/home/jovyan/Ames_Housing_Data\n"
     ]
    }
   ],
   "source": [
    "cd .."
   ]
  },
  {
   "cell_type": "code",
   "execution_count": 2,
   "metadata": {},
   "outputs": [],
   "source": [
    "from sklearn.linear_model import LinearRegression\n",
    "from sklearn.linear_model import Ridge\n",
    "from sklearn.linear_model import Lasso\n",
    "from sklearn.linear_model import RandomizedLasso\n",
    "from sklearn.neighbors import KNeighborsRegressor\n",
    "from sklearn.tree import DecisionTreeRegressor\n",
    "from sklearn.svm import SVR\n",
    "from sklearn.feature_selection import RFE\n",
    "from sklearn.model_selection import train_test_split"
   ]
  },
  {
   "cell_type": "code",
   "execution_count": 3,
   "metadata": {},
   "outputs": [],
   "source": [
    "run src/load_data_2.py"
   ]
  },
  {
   "cell_type": "code",
   "execution_count": 4,
   "metadata": {},
   "outputs": [],
   "source": [
    "housing_df = load_train_data()"
   ]
  },
  {
   "cell_type": "code",
   "execution_count": 5,
   "metadata": {},
   "outputs": [
    {
     "data": {
      "text/plain": [
       "(1423, 78)"
      ]
     },
     "execution_count": 5,
     "metadata": {},
     "output_type": "execute_result"
    }
   ],
   "source": [
    "clean_data(housing_df)\n",
    "housing_df.shape"
   ]
  },
  {
   "cell_type": "markdown",
   "metadata": {},
   "source": [
    "#### Split  features (numeric, categorical), target,"
   ]
  },
  {
   "cell_type": "code",
   "execution_count": 6,
   "metadata": {},
   "outputs": [],
   "source": [
    "features, target = split_features_target(housing_df)\n",
    "numerical_features, categorical_features = split_numerical_categorical(features)"
   ]
  },
  {
   "cell_type": "markdown",
   "metadata": {},
   "source": [
    "#### Scale Numerical features & One Hot Encode Categorical features"
   ]
  },
  {
   "cell_type": "code",
   "execution_count": 7,
   "metadata": {},
   "outputs": [],
   "source": [
    "scaled_numerical_features = log_scale_features(numerical_features)\n",
    "categorical_features = one_hot_encode_features(categorical_features)"
   ]
  },
  {
   "cell_type": "code",
   "execution_count": 8,
   "metadata": {},
   "outputs": [],
   "source": [
    "scaled_encoded_features_df = scaled_numerical_features.merge(categorical_features, left_index=True, right_index=True, how='left')\n",
    "unscaled_encoded_features_df = numerical_features.merge(categorical_features, left_index=True, right_index=True, how='left')"
   ]
  },
  {
   "cell_type": "code",
   "execution_count": 9,
   "metadata": {},
   "outputs": [],
   "source": [
    "np.random.seed(125)"
   ]
  },
  {
   "cell_type": "code",
   "execution_count": 10,
   "metadata": {},
   "outputs": [
    {
     "data": {
      "text/html": [
       "<div>\n",
       "<table border=\"1\" class=\"dataframe\">\n",
       "  <thead>\n",
       "    <tr style=\"text-align: right;\">\n",
       "      <th></th>\n",
       "      <th>MSSubClass</th>\n",
       "      <th>LotFrontage</th>\n",
       "      <th>LotArea</th>\n",
       "      <th>OverallQual</th>\n",
       "      <th>OverallCond</th>\n",
       "      <th>YearBuilt</th>\n",
       "      <th>YearRemodAdd</th>\n",
       "      <th>MasVnrArea</th>\n",
       "      <th>BsmtFinSF1</th>\n",
       "      <th>BsmtFinSF2</th>\n",
       "      <th>...</th>\n",
       "      <th>SaleType_ConLw</th>\n",
       "      <th>SaleType_New</th>\n",
       "      <th>SaleType_Oth</th>\n",
       "      <th>SaleType_WD</th>\n",
       "      <th>SaleCondition_Abnorml</th>\n",
       "      <th>SaleCondition_AdjLand</th>\n",
       "      <th>SaleCondition_Alloca</th>\n",
       "      <th>SaleCondition_Family</th>\n",
       "      <th>SaleCondition_Normal</th>\n",
       "      <th>SaleCondition_Partial</th>\n",
       "    </tr>\n",
       "    <tr>\n",
       "      <th>Id</th>\n",
       "      <th></th>\n",
       "      <th></th>\n",
       "      <th></th>\n",
       "      <th></th>\n",
       "      <th></th>\n",
       "      <th></th>\n",
       "      <th></th>\n",
       "      <th></th>\n",
       "      <th></th>\n",
       "      <th></th>\n",
       "      <th></th>\n",
       "      <th></th>\n",
       "      <th></th>\n",
       "      <th></th>\n",
       "      <th></th>\n",
       "      <th></th>\n",
       "      <th></th>\n",
       "      <th></th>\n",
       "      <th></th>\n",
       "      <th></th>\n",
       "      <th></th>\n",
       "    </tr>\n",
       "  </thead>\n",
       "  <tbody>\n",
       "    <tr>\n",
       "      <th>1</th>\n",
       "      <td>0.213430</td>\n",
       "      <td>-0.043826</td>\n",
       "      <td>-0.066639</td>\n",
       "      <td>0.336399</td>\n",
       "      <td>-0.239180</td>\n",
       "      <td>0.513091</td>\n",
       "      <td>0.431636</td>\n",
       "      <td>0.587729</td>\n",
       "      <td>0.376383</td>\n",
       "      <td>-0.180199</td>\n",
       "      <td>...</td>\n",
       "      <td>0</td>\n",
       "      <td>0</td>\n",
       "      <td>0</td>\n",
       "      <td>1</td>\n",
       "      <td>0</td>\n",
       "      <td>0</td>\n",
       "      <td>0</td>\n",
       "      <td>0</td>\n",
       "      <td>1</td>\n",
       "      <td>0</td>\n",
       "    </tr>\n",
       "    <tr>\n",
       "      <th>2</th>\n",
       "      <td>-0.563100</td>\n",
       "      <td>0.278067</td>\n",
       "      <td>0.055623</td>\n",
       "      <td>-0.005369</td>\n",
       "      <td>0.973575</td>\n",
       "      <td>0.074995</td>\n",
       "      <td>-0.225214</td>\n",
       "      <td>-0.413766</td>\n",
       "      <td>0.431536</td>\n",
       "      <td>-0.180199</td>\n",
       "      <td>...</td>\n",
       "      <td>0</td>\n",
       "      <td>0</td>\n",
       "      <td>0</td>\n",
       "      <td>1</td>\n",
       "      <td>0</td>\n",
       "      <td>0</td>\n",
       "      <td>0</td>\n",
       "      <td>0</td>\n",
       "      <td>1</td>\n",
       "      <td>0</td>\n",
       "    </tr>\n",
       "    <tr>\n",
       "      <th>3</th>\n",
       "      <td>0.213430</td>\n",
       "      <td>0.026043</td>\n",
       "      <td>0.207600</td>\n",
       "      <td>0.336399</td>\n",
       "      <td>-0.239180</td>\n",
       "      <td>0.480842</td>\n",
       "      <td>0.407467</td>\n",
       "      <td>0.551816</td>\n",
       "      <td>0.313221</td>\n",
       "      <td>-0.180199</td>\n",
       "      <td>...</td>\n",
       "      <td>0</td>\n",
       "      <td>0</td>\n",
       "      <td>0</td>\n",
       "      <td>1</td>\n",
       "      <td>0</td>\n",
       "      <td>0</td>\n",
       "      <td>0</td>\n",
       "      <td>0</td>\n",
       "      <td>1</td>\n",
       "      <td>0</td>\n",
       "    </tr>\n",
       "    <tr>\n",
       "      <th>4</th>\n",
       "      <td>0.323978</td>\n",
       "      <td>-0.167652</td>\n",
       "      <td>0.050620</td>\n",
       "      <td>0.336399</td>\n",
       "      <td>-0.239180</td>\n",
       "      <td>-0.937218</td>\n",
       "      <td>-0.372399</td>\n",
       "      <td>-0.413766</td>\n",
       "      <td>0.176250</td>\n",
       "      <td>-0.180199</td>\n",
       "      <td>...</td>\n",
       "      <td>0</td>\n",
       "      <td>0</td>\n",
       "      <td>0</td>\n",
       "      <td>1</td>\n",
       "      <td>1</td>\n",
       "      <td>0</td>\n",
       "      <td>0</td>\n",
       "      <td>0</td>\n",
       "      <td>0</td>\n",
       "      <td>0</td>\n",
       "    </tr>\n",
       "    <tr>\n",
       "      <th>5</th>\n",
       "      <td>0.213430</td>\n",
       "      <td>0.353831</td>\n",
       "      <td>0.434786</td>\n",
       "      <td>0.637860</td>\n",
       "      <td>-0.239180</td>\n",
       "      <td>0.464706</td>\n",
       "      <td>0.359091</td>\n",
       "      <td>0.697217</td>\n",
       "      <td>0.363697</td>\n",
       "      <td>-0.180199</td>\n",
       "      <td>...</td>\n",
       "      <td>0</td>\n",
       "      <td>0</td>\n",
       "      <td>0</td>\n",
       "      <td>1</td>\n",
       "      <td>0</td>\n",
       "      <td>0</td>\n",
       "      <td>0</td>\n",
       "      <td>0</td>\n",
       "      <td>1</td>\n",
       "      <td>0</td>\n",
       "    </tr>\n",
       "  </tbody>\n",
       "</table>\n",
       "<p>5 rows × 297 columns</p>\n",
       "</div>"
      ],
      "text/plain": [
       "    MSSubClass  LotFrontage   LotArea  OverallQual  OverallCond  YearBuilt  \\\n",
       "Id                                                                           \n",
       "1     0.213430    -0.043826 -0.066639     0.336399    -0.239180   0.513091   \n",
       "2    -0.563100     0.278067  0.055623    -0.005369     0.973575   0.074995   \n",
       "3     0.213430     0.026043  0.207600     0.336399    -0.239180   0.480842   \n",
       "4     0.323978    -0.167652  0.050620     0.336399    -0.239180  -0.937218   \n",
       "5     0.213430     0.353831  0.434786     0.637860    -0.239180   0.464706   \n",
       "\n",
       "    YearRemodAdd  MasVnrArea  BsmtFinSF1  BsmtFinSF2          ...            \\\n",
       "Id                                                            ...             \n",
       "1       0.431636    0.587729    0.376383   -0.180199          ...             \n",
       "2      -0.225214   -0.413766    0.431536   -0.180199          ...             \n",
       "3       0.407467    0.551816    0.313221   -0.180199          ...             \n",
       "4      -0.372399   -0.413766    0.176250   -0.180199          ...             \n",
       "5       0.359091    0.697217    0.363697   -0.180199          ...             \n",
       "\n",
       "    SaleType_ConLw  SaleType_New  SaleType_Oth  SaleType_WD  \\\n",
       "Id                                                            \n",
       "1                0             0             0            1   \n",
       "2                0             0             0            1   \n",
       "3                0             0             0            1   \n",
       "4                0             0             0            1   \n",
       "5                0             0             0            1   \n",
       "\n",
       "    SaleCondition_Abnorml  SaleCondition_AdjLand  SaleCondition_Alloca  \\\n",
       "Id                                                                       \n",
       "1                       0                      0                     0   \n",
       "2                       0                      0                     0   \n",
       "3                       0                      0                     0   \n",
       "4                       1                      0                     0   \n",
       "5                       0                      0                     0   \n",
       "\n",
       "    SaleCondition_Family  SaleCondition_Normal  SaleCondition_Partial  \n",
       "Id                                                                     \n",
       "1                      0                     1                      0  \n",
       "2                      0                     1                      0  \n",
       "3                      0                     1                      0  \n",
       "4                      0                     0                      0  \n",
       "5                      0                     1                      0  \n",
       "\n",
       "[5 rows x 297 columns]"
      ]
     },
     "execution_count": 10,
     "metadata": {},
     "output_type": "execute_result"
    }
   ],
   "source": [
    "scaled_encoded_features_df.head()"
   ]
  },
  {
   "cell_type": "markdown",
   "metadata": {},
   "source": [
    "##### EDA/Manual selected features"
   ]
  },
  {
   "cell_type": "code",
   "execution_count": 11,
   "metadata": {},
   "outputs": [
    {
     "data": {
      "text/plain": [
       "['GrLivArea',\n",
       " '1stFlrSF',\n",
       " 'YearBuilt',\n",
       " 'YearRemodAdd',\n",
       " 'GarageYrBlt',\n",
       " 'Utilities_AllPub',\n",
       " 'Street_Pave',\n",
       " 'Condition2_Norm',\n",
       " 'RoofMatl_CompShg',\n",
       " 'Heating_GasA']"
      ]
     },
     "execution_count": 11,
     "metadata": {},
     "output_type": "execute_result"
    }
   ],
   "source": [
    "eda_selected_features = eda_selected_features()\n",
    "eda_selected_features"
   ]
  },
  {
   "cell_type": "code",
   "execution_count": 12,
   "metadata": {},
   "outputs": [],
   "source": [
    "eda_scaled_features_df = scaled_encoded_features_df[eda_selected_features]\n",
    "eda_unscaled_features_df = unscaled_encoded_features_df[eda_selected_features]"
   ]
  },
  {
   "cell_type": "markdown",
   "metadata": {},
   "source": [
    "##### RFE (Recursive Feature Elimination) selected features"
   ]
  },
  {
   "cell_type": "code",
   "execution_count": 13,
   "metadata": {},
   "outputs": [
    {
     "data": {
      "text/plain": [
       "45     LotShape_IR1\n",
       "46     LotShape_IR2\n",
       "47     LotShape_IR3\n",
       "48     LotShape_Reg\n",
       "167    ExterQual_Ex\n",
       "168    ExterQual_Fa\n",
       "169    ExterQual_Gd\n",
       "170    ExterQual_TA\n",
       "172    ExterCond_Fa\n",
       "174    ExterCond_Po\n",
       "Name: colnames, dtype: object"
      ]
     },
     "execution_count": 13,
     "metadata": {},
     "output_type": "execute_result"
    }
   ],
   "source": [
    "rfe_selected_features = rfe_linear_selected_features(scaled_encoded_features_df, target, 10)\n",
    "rfe_selected_features"
   ]
  },
  {
   "cell_type": "code",
   "execution_count": 14,
   "metadata": {},
   "outputs": [],
   "source": [
    "rfe_scaled_features_df = scaled_encoded_features_df[rfe_selected_features]\n",
    "rfe_unscaled_features_df = unscaled_encoded_features_df[rfe_selected_features]"
   ]
  },
  {
   "cell_type": "markdown",
   "metadata": {},
   "source": [
    "#### Lasso selected features"
   ]
  },
  {
   "cell_type": "code",
   "execution_count": 15,
   "metadata": {},
   "outputs": [
    {
     "name": "stderr",
     "output_type": "stream",
     "text": [
      "/opt/conda/lib/python3.6/site-packages/sklearn/linear_model/coordinate_descent.py:491: ConvergenceWarning: Objective did not converge. You might want to increase the number of iterations. Fitting data with very small alpha may cause precision problems.\n",
      "  ConvergenceWarning)\n"
     ]
    },
    {
     "data": {
      "text/plain": [
       "124        RoofMatl_ClyTile\n",
       "101         Condition2_PosN\n",
       "257           GarageQual_Ex\n",
       "263           GarageCond_Ex\n",
       "131        RoofMatl_WdShngl\n",
       "100         Condition2_PosA\n",
       "189             BsmtCond_Po\n",
       "78     Neighborhood_NoRidge\n",
       "85     Neighborhood_StoneBr\n",
       "139     Exterior1st_ImStucc\n",
       "Name: colnames, dtype: object"
      ]
     },
     "execution_count": 15,
     "metadata": {},
     "output_type": "execute_result"
    }
   ],
   "source": [
    "lasso_selected_features = lasso_selected_features(scaled_encoded_features_df, target, 10)\n",
    "lasso_selected_features"
   ]
  },
  {
   "cell_type": "code",
   "execution_count": 16,
   "metadata": {},
   "outputs": [],
   "source": [
    "lasso_scaled_features_df = scaled_encoded_features_df[lasso_selected_features]\n",
    "lasso_unscaled_features_df = unscaled_encoded_features_df[lasso_selected_features]"
   ]
  },
  {
   "cell_type": "code",
   "execution_count": 17,
   "metadata": {},
   "outputs": [],
   "source": [
    "metrics = pd.DataFrame(columns=['Model', 'Train (EDA)', 'Test (EDA)', 'Train (RFE)', 'Test (RFE)'])"
   ]
  },
  {
   "cell_type": "markdown",
   "metadata": {},
   "source": [
    "### Models\n",
    "\n",
    "\n",
    "### (1) Ridge"
   ]
  },
  {
   "cell_type": "code",
   "execution_count": 18,
   "metadata": {},
   "outputs": [],
   "source": [
    "ridge = Ridge()"
   ]
  },
  {
   "cell_type": "markdown",
   "metadata": {},
   "source": [
    "#### (a) Using top 10 Features selected Manually via EDA"
   ]
  },
  {
   "cell_type": "code",
   "execution_count": 19,
   "metadata": {},
   "outputs": [],
   "source": [
    "train_X, test_X, train_y, test_y = train_test_split(eda_scaled_features_df, target, test_size = .25, random_state = 42)"
   ]
  },
  {
   "cell_type": "code",
   "execution_count": 20,
   "metadata": {},
   "outputs": [
    {
     "data": {
      "text/plain": [
       "(0.68482361168099393, 0.65433123875024712)"
      ]
     },
     "execution_count": 20,
     "metadata": {},
     "output_type": "execute_result"
    }
   ],
   "source": [
    "ridge.fit(train_X, train_y)\n",
    "ridge.predict(train_X)\n",
    "ridge_score_eda_train = ridge.score(train_X, train_y)\n",
    "ridge_score_eda_test = ridge.score(test_X, test_y)\n",
    "ridge_score_eda_train, ridge_score_eda_test"
   ]
  },
  {
   "cell_type": "markdown",
   "metadata": {},
   "source": [
    "#### (b) Using top 10 Features selected via RFE (Recursuve Feature Elimination)"
   ]
  },
  {
   "cell_type": "code",
   "execution_count": 21,
   "metadata": {},
   "outputs": [],
   "source": [
    "train_X, test_X, train_y, test_y  = train_test_split(rfe_scaled_features_df, target, test_size = .25, random_state = 42)"
   ]
  },
  {
   "cell_type": "code",
   "execution_count": 22,
   "metadata": {},
   "outputs": [
    {
     "data": {
      "text/plain": [
       "(0.51792624931205156, 0.43433899260768205)"
      ]
     },
     "execution_count": 22,
     "metadata": {},
     "output_type": "execute_result"
    }
   ],
   "source": [
    "ridge.fit(train_X, train_y)\n",
    "ridge.predict(train_X)\n",
    "ridge_score_rfe_train = ridge.score(train_X, train_y)\n",
    "ridge_score_rfe_test = ridge.score(test_X, test_y)\n",
    "ridge_score_rfe_train, ridge_score_rfe_test"
   ]
  },
  {
   "cell_type": "code",
   "execution_count": 24,
   "metadata": {},
   "outputs": [],
   "source": [
    "metrics.loc[len(metrics)] = ['Ridge', round(ridge_score_eda_train, 2), round(ridge_score_eda_test, 2),\n",
    "                                         round(ridge_score_rfe_train, 2), round(ridge_score_rfe_test, 2)]"
   ]
  },
  {
   "cell_type": "markdown",
   "metadata": {},
   "source": [
    "### (2) Lasso"
   ]
  },
  {
   "cell_type": "code",
   "execution_count": 25,
   "metadata": {},
   "outputs": [],
   "source": [
    "lasso = Lasso()"
   ]
  },
  {
   "cell_type": "markdown",
   "metadata": {},
   "source": [
    "#### (a) Using top 10 Features selected Manually via EDA"
   ]
  },
  {
   "cell_type": "code",
   "execution_count": 26,
   "metadata": {},
   "outputs": [],
   "source": [
    "train_X, test_X, train_y, test_y = train_test_split(eda_scaled_features_df, target, test_size = .25, random_state = 42)"
   ]
  },
  {
   "cell_type": "code",
   "execution_count": 27,
   "metadata": {},
   "outputs": [
    {
     "data": {
      "text/plain": [
       "(0.68485008638450884, 0.65461926369028667)"
      ]
     },
     "execution_count": 27,
     "metadata": {},
     "output_type": "execute_result"
    }
   ],
   "source": [
    "lasso.fit(train_X, train_y)\n",
    "lasso.predict(train_X)\n",
    "lasso_score_eda_train = lasso.score(train_X, train_y)\n",
    "lasso_score_eda_test = lasso.score(test_X, test_y)\n",
    "lasso_score_eda_train, lasso_score_eda_test"
   ]
  },
  {
   "cell_type": "markdown",
   "metadata": {},
   "source": [
    "#### (b) Using top 10 Features selected via RFE (Recursuve Feature Elimination)"
   ]
  },
  {
   "cell_type": "code",
   "execution_count": 28,
   "metadata": {},
   "outputs": [],
   "source": [
    "train_X, test_X, train_y, test_y = train_test_split(rfe_scaled_features_df, target, test_size = .25, random_state = 42)"
   ]
  },
  {
   "cell_type": "code",
   "execution_count": 29,
   "metadata": {},
   "outputs": [
    {
     "data": {
      "text/plain": [
       "(0.5182763025506183, 0.43242267807903761)"
      ]
     },
     "execution_count": 29,
     "metadata": {},
     "output_type": "execute_result"
    }
   ],
   "source": [
    "lasso.fit(train_X, train_y)\n",
    "lasso.predict(train_X)\n",
    "lasso_score_rfe_train = lasso.score(train_X, train_y)\n",
    "lasso_score_rfe_test = lasso.score(test_X, test_y)\n",
    "lasso_score_rfe_train, lasso_score_rfe_test"
   ]
  },
  {
   "cell_type": "code",
   "execution_count": 30,
   "metadata": {},
   "outputs": [],
   "source": [
    "metrics.loc[len(metrics)] = ['Lasso', round(lasso_score_eda_train, 2), round(lasso_score_eda_test, 2),\n",
    "                                         round(lasso_score_rfe_train, 2), round(lasso_score_rfe_test, 2)]"
   ]
  },
  {
   "cell_type": "markdown",
   "metadata": {},
   "source": [
    "### (3) KNN (K Nearest Neighbor)"
   ]
  },
  {
   "cell_type": "code",
   "execution_count": 31,
   "metadata": {},
   "outputs": [],
   "source": [
    "knn = KNeighborsRegressor()"
   ]
  },
  {
   "cell_type": "markdown",
   "metadata": {},
   "source": [
    "#### (a) Using top 10 Features selected Manually via EDA"
   ]
  },
  {
   "cell_type": "code",
   "execution_count": 32,
   "metadata": {},
   "outputs": [],
   "source": [
    "train_X, test_X, train_y, test_y = train_test_split(eda_scaled_features_df, target, test_size = .25, random_state = 42)"
   ]
  },
  {
   "cell_type": "code",
   "execution_count": 33,
   "metadata": {},
   "outputs": [
    {
     "data": {
      "text/plain": [
       "(0.84552123219891362, 0.76961933942907523)"
      ]
     },
     "execution_count": 33,
     "metadata": {},
     "output_type": "execute_result"
    }
   ],
   "source": [
    "knn.fit(train_X, train_y)\n",
    "knn.predict(train_X)\n",
    "knn_score_eda_train = knn.score(train_X, train_y)\n",
    "knn_score_eda_test = knn.score(test_X, test_y)\n",
    "knn_score_eda_train, knn_score_eda_test"
   ]
  },
  {
   "cell_type": "markdown",
   "metadata": {},
   "source": [
    "#### (b) Using top 10 Features selected via RFE (Recursuve Feature Elimination)"
   ]
  },
  {
   "cell_type": "code",
   "execution_count": 34,
   "metadata": {},
   "outputs": [],
   "source": [
    "train_X, test_X, train_y, test_y = train_test_split(rfe_scaled_features_df, target, test_size = .25, random_state = 42)"
   ]
  },
  {
   "cell_type": "code",
   "execution_count": 35,
   "metadata": {},
   "outputs": [
    {
     "data": {
      "text/plain": [
       "(0.47617897475125959, 0.40178987770344254)"
      ]
     },
     "execution_count": 35,
     "metadata": {},
     "output_type": "execute_result"
    }
   ],
   "source": [
    "knn.fit(train_X, train_y)\n",
    "knn.predict(train_X)\n",
    "knn_score_rfe_train = knn.score(train_X, train_y)\n",
    "knn_score_rfe_test = knn.score(test_X, test_y)\n",
    "knn_score_rfe_train, knn_score_rfe_test"
   ]
  },
  {
   "cell_type": "code",
   "execution_count": 36,
   "metadata": {},
   "outputs": [],
   "source": [
    "metrics.loc[len(metrics)] = ['KNN', round(knn_score_eda_train, 2), round(knn_score_eda_test, 2),\n",
    "                                         round(knn_score_rfe_train, 2), round(knn_score_rfe_test, 2)]"
   ]
  },
  {
   "cell_type": "markdown",
   "metadata": {},
   "source": [
    "### (4) SVM (Support Vector Machine)"
   ]
  },
  {
   "cell_type": "code",
   "execution_count": 37,
   "metadata": {},
   "outputs": [],
   "source": [
    "svm = SVR()"
   ]
  },
  {
   "cell_type": "markdown",
   "metadata": {},
   "source": [
    "#### (a) Using top 10 Features selected Manually via EDA"
   ]
  },
  {
   "cell_type": "code",
   "execution_count": 38,
   "metadata": {},
   "outputs": [],
   "source": [
    "train_X, test_X, train_y, test_y = train_test_split(eda_scaled_features_df, target, test_size = .25, random_state = 42)"
   ]
  },
  {
   "cell_type": "code",
   "execution_count": 39,
   "metadata": {},
   "outputs": [
    {
     "data": {
      "text/plain": [
       "(-0.042919671533690362, -0.045602739436426454)"
      ]
     },
     "execution_count": 39,
     "metadata": {},
     "output_type": "execute_result"
    }
   ],
   "source": [
    "svm.fit(train_X, train_y)\n",
    "svm.predict(train_X)\n",
    "svm_score_eda_train = svm.score(train_X, train_y)\n",
    "svm_score_eda_test = svm.score(test_X, test_y)\n",
    "svm_score_eda_train, svm_score_eda_test"
   ]
  },
  {
   "cell_type": "markdown",
   "metadata": {},
   "source": [
    "#### (b) Using top 10 Features selected via RFE (Recursuve Feature Elimination)"
   ]
  },
  {
   "cell_type": "code",
   "execution_count": 40,
   "metadata": {},
   "outputs": [],
   "source": [
    "train_X, test_X, train_y, test_y = train_test_split(rfe_scaled_features_df, target, test_size = .25, random_state = 42)"
   ]
  },
  {
   "cell_type": "code",
   "execution_count": 41,
   "metadata": {},
   "outputs": [
    {
     "data": {
      "text/plain": [
       "(-0.043677277922238522, -0.046186418718727751)"
      ]
     },
     "execution_count": 41,
     "metadata": {},
     "output_type": "execute_result"
    }
   ],
   "source": [
    "svm.fit(train_X, train_y)\n",
    "svm.predict(train_X)\n",
    "svm_score_rfe_train = svm.score(train_X, train_y)\n",
    "svm_score_rfe_test = svm.score(test_X, test_y)\n",
    "svm_score_rfe_train, svm_score_rfe_test"
   ]
  },
  {
   "cell_type": "code",
   "execution_count": 42,
   "metadata": {},
   "outputs": [],
   "source": [
    "metrics.loc[len(metrics)] = ['SVM', round(svm_score_eda_train, 2), round(svm_score_eda_test, 2),\n",
    "                                         round(svm_score_rfe_train, 2), round(svm_score_rfe_test, 2)]"
   ]
  },
  {
   "cell_type": "markdown",
   "metadata": {},
   "source": [
    "### (5) Decision Tree"
   ]
  },
  {
   "cell_type": "code",
   "execution_count": 47,
   "metadata": {},
   "outputs": [],
   "source": [
    "dtree = DecisionTreeRegressor()"
   ]
  },
  {
   "cell_type": "markdown",
   "metadata": {},
   "source": [
    "#### (a) Using top 10 Features selected Manually via EDA"
   ]
  },
  {
   "cell_type": "code",
   "execution_count": 48,
   "metadata": {},
   "outputs": [],
   "source": [
    "train_X, test_X, train_y, test_y = train_test_split(eda_unscaled_features_df, target, test_size = .25, random_state = 42)"
   ]
  },
  {
   "cell_type": "code",
   "execution_count": 49,
   "metadata": {},
   "outputs": [
    {
     "data": {
      "text/plain": [
       "(0.99939352097703515, 0.73630116449984961)"
      ]
     },
     "execution_count": 49,
     "metadata": {},
     "output_type": "execute_result"
    }
   ],
   "source": [
    "dtree.fit(train_X, train_y)\n",
    "dtree.predict(train_X)\n",
    "dtree_score_eda_train = dtree.score(train_X, train_y)\n",
    "dtree_score_eda_test = dtree.score(test_X, test_y)\n",
    "dtree_score_eda_train, dtree_score_eda_test"
   ]
  },
  {
   "cell_type": "markdown",
   "metadata": {},
   "source": [
    "#### (b) Using top 10 Features selected via RFE (Recursuve Feature Elimination)"
   ]
  },
  {
   "cell_type": "code",
   "execution_count": 50,
   "metadata": {},
   "outputs": [],
   "source": [
    "train_X, test_X, train_y, test_y = train_test_split(rfe_unscaled_features_df, target, test_size = .25, random_state = 42)"
   ]
  },
  {
   "cell_type": "code",
   "execution_count": 51,
   "metadata": {},
   "outputs": [
    {
     "data": {
      "text/plain": [
       "(0.53177064702763754, 0.41969211129826983)"
      ]
     },
     "execution_count": 51,
     "metadata": {},
     "output_type": "execute_result"
    }
   ],
   "source": [
    "dtree.fit(train_X, train_y)\n",
    "dtree.predict(train_X)\n",
    "dtree_score_rfe_train = dtree.score(train_X, train_y)\n",
    "dtree_score_rfe_test = dtree.score(test_X, test_y)\n",
    "dtree_score_rfe_train, dtree_score_rfe_test"
   ]
  },
  {
   "cell_type": "code",
   "execution_count": 52,
   "metadata": {},
   "outputs": [],
   "source": [
    "metrics.loc[len(metrics)] = ['Decision Tree', round(dtree_score_eda_train, 2), round(dtree_score_eda_test, 2),\n",
    "                                         round(dtree_score_rfe_train, 2), round(dtree_score_rfe_test, 2)]"
   ]
  },
  {
   "cell_type": "markdown",
   "metadata": {},
   "source": [
    "### Summarize Model Scores"
   ]
  },
  {
   "cell_type": "code",
   "execution_count": 53,
   "metadata": {},
   "outputs": [
    {
     "data": {
      "text/html": [
       "<div>\n",
       "<table border=\"1\" class=\"dataframe\">\n",
       "  <thead>\n",
       "    <tr style=\"text-align: right;\">\n",
       "      <th></th>\n",
       "      <th>Model</th>\n",
       "      <th>Train (EDA)</th>\n",
       "      <th>Test (EDA)</th>\n",
       "      <th>Train (RFE)</th>\n",
       "      <th>Test (RFE)</th>\n",
       "    </tr>\n",
       "  </thead>\n",
       "  <tbody>\n",
       "    <tr>\n",
       "      <th>0</th>\n",
       "      <td>Ridge</td>\n",
       "      <td>0.68</td>\n",
       "      <td>0.65</td>\n",
       "      <td>0.52</td>\n",
       "      <td>0.43</td>\n",
       "    </tr>\n",
       "    <tr>\n",
       "      <th>1</th>\n",
       "      <td>Lasso</td>\n",
       "      <td>0.68</td>\n",
       "      <td>0.65</td>\n",
       "      <td>0.52</td>\n",
       "      <td>0.43</td>\n",
       "    </tr>\n",
       "    <tr>\n",
       "      <th>2</th>\n",
       "      <td>KNN</td>\n",
       "      <td>0.85</td>\n",
       "      <td>0.77</td>\n",
       "      <td>0.48</td>\n",
       "      <td>0.40</td>\n",
       "    </tr>\n",
       "    <tr>\n",
       "      <th>3</th>\n",
       "      <td>SVM</td>\n",
       "      <td>-0.04</td>\n",
       "      <td>-0.05</td>\n",
       "      <td>-0.04</td>\n",
       "      <td>-0.05</td>\n",
       "    </tr>\n",
       "    <tr>\n",
       "      <th>4</th>\n",
       "      <td>Decision Tree</td>\n",
       "      <td>1.00</td>\n",
       "      <td>0.74</td>\n",
       "      <td>0.53</td>\n",
       "      <td>0.42</td>\n",
       "    </tr>\n",
       "  </tbody>\n",
       "</table>\n",
       "</div>"
      ],
      "text/plain": [
       "           Model  Train (EDA)  Test (EDA)  Train (RFE)  Test (RFE)\n",
       "0          Ridge         0.68        0.65         0.52        0.43\n",
       "1          Lasso         0.68        0.65         0.52        0.43\n",
       "2            KNN         0.85        0.77         0.48        0.40\n",
       "3            SVM        -0.04       -0.05        -0.04       -0.05\n",
       "4  Decision Tree         1.00        0.74         0.53        0.42"
      ]
     },
     "execution_count": 53,
     "metadata": {},
     "output_type": "execute_result"
    }
   ],
   "source": [
    "metrics"
   ]
  },
  {
   "cell_type": "markdown",
   "metadata": {},
   "source": [
    "The scores above also shows that EDA/Manually selected features scored better than RFE for this dataset.\n",
    "\n",
    "Let'd analyse the EDA train test scores...\n",
    "\n",
    "Using the default hyperparameters, \n",
    "- Decision Tree seem to have performed pretty good in training. It seems to be overfitting, as it is a perfect 1.0, although it ca \n",
    "    - Decision tree tends to overfit since at each node, it will make the decision among a subset of all the features(columns), so when it reaches a final decision, it is a complicated and long decision chain. Only if a data point satisfies all the rules along this chain, the final decision can be made.\n",
    "- Ridge and Lasso seem to have performed similarly. Ridge and Lasso are Linear models\n",
    "- SVM scored pretty bad.\n"
   ]
  },
  {
   "cell_type": "code",
   "execution_count": null,
   "metadata": {},
   "outputs": [],
   "source": []
  }
 ],
 "metadata": {
  "kernelspec": {
   "display_name": "Python 3",
   "language": "python",
   "name": "python3"
  },
  "language_info": {
   "codemirror_mode": {
    "name": "ipython",
    "version": 3
   },
   "file_extension": ".py",
   "mimetype": "text/x-python",
   "name": "python",
   "nbconvert_exporter": "python",
   "pygments_lexer": "ipython3",
   "version": "3.6.4"
  }
 },
 "nbformat": 4,
 "nbformat_minor": 2
}
